{
 "cells": [
  {
   "cell_type": "code",
   "execution_count": 12,
   "metadata": {},
   "outputs": [],
   "source": [
    "import pandas as pd\r\n",
    "import matplotlib.pyplot as plt\r\n",
    "import numpy as np\r\n",
    "from roboticstoolbox.mobile import DubinsPlanner"
   ]
  },
  {
   "cell_type": "code",
   "execution_count": 3,
   "metadata": {},
   "outputs": [
    {
     "data": {
      "text/html": "<div>\n<style scoped>\n    .dataframe tbody tr th:only-of-type {\n        vertical-align: middle;\n    }\n\n    .dataframe tbody tr th {\n        vertical-align: top;\n    }\n\n    .dataframe thead th {\n        text-align: right;\n    }\n</style>\n<table border=\"1\" class=\"dataframe\">\n  <thead>\n    <tr style=\"text-align: right;\">\n      <th></th>\n      <th>x</th>\n      <th>y</th>\n      <th>r</th>\n    </tr>\n  </thead>\n  <tbody>\n    <tr>\n      <th>0</th>\n      <td>10.5</td>\n      <td>14.4</td>\n      <td>0</td>\n    </tr>\n    <tr>\n      <th>1</th>\n      <td>18.0</td>\n      <td>15.9</td>\n      <td>10</td>\n    </tr>\n    <tr>\n      <th>2</th>\n      <td>18.3</td>\n      <td>13.3</td>\n      <td>10</td>\n    </tr>\n    <tr>\n      <th>3</th>\n      <td>16.5</td>\n      <td>9.3</td>\n      <td>10</td>\n    </tr>\n    <tr>\n      <th>4</th>\n      <td>15.4</td>\n      <td>11.0</td>\n      <td>10</td>\n    </tr>\n    <tr>\n      <th>5</th>\n      <td>14.9</td>\n      <td>13.2</td>\n      <td>5</td>\n    </tr>\n    <tr>\n      <th>6</th>\n      <td>16.3</td>\n      <td>13.3</td>\n      <td>5</td>\n    </tr>\n    <tr>\n      <th>7</th>\n      <td>16.4</td>\n      <td>17.8</td>\n      <td>5</td>\n    </tr>\n    <tr>\n      <th>8</th>\n      <td>15.0</td>\n      <td>17.9</td>\n      <td>5</td>\n    </tr>\n    <tr>\n      <th>9</th>\n      <td>16.1</td>\n      <td>19.6</td>\n      <td>10</td>\n    </tr>\n    <tr>\n      <th>10</th>\n      <td>15.7</td>\n      <td>20.6</td>\n      <td>10</td>\n    </tr>\n    <tr>\n      <th>11</th>\n      <td>13.2</td>\n      <td>20.1</td>\n      <td>10</td>\n    </tr>\n    <tr>\n      <th>12</th>\n      <td>14.3</td>\n      <td>15.3</td>\n      <td>5</td>\n    </tr>\n    <tr>\n      <th>13</th>\n      <td>14.0</td>\n      <td>5.1</td>\n      <td>10</td>\n    </tr>\n    <tr>\n      <th>14</th>\n      <td>11.4</td>\n      <td>6.7</td>\n      <td>15</td>\n    </tr>\n    <tr>\n      <th>15</th>\n      <td>8.3</td>\n      <td>5.0</td>\n      <td>15</td>\n    </tr>\n    <tr>\n      <th>16</th>\n      <td>7.9</td>\n      <td>9.8</td>\n      <td>10</td>\n    </tr>\n    <tr>\n      <th>17</th>\n      <td>11.4</td>\n      <td>12.0</td>\n      <td>5</td>\n    </tr>\n    <tr>\n      <th>18</th>\n      <td>11.2</td>\n      <td>17.6</td>\n      <td>5</td>\n    </tr>\n    <tr>\n      <th>19</th>\n      <td>10.1</td>\n      <td>18.7</td>\n      <td>5</td>\n    </tr>\n    <tr>\n      <th>20</th>\n      <td>11.7</td>\n      <td>20.3</td>\n      <td>10</td>\n    </tr>\n    <tr>\n      <th>21</th>\n      <td>10.2</td>\n      <td>22.1</td>\n      <td>10</td>\n    </tr>\n    <tr>\n      <th>22</th>\n      <td>9.7</td>\n      <td>23.8</td>\n      <td>10</td>\n    </tr>\n    <tr>\n      <th>23</th>\n      <td>10.1</td>\n      <td>26.4</td>\n      <td>15</td>\n    </tr>\n    <tr>\n      <th>24</th>\n      <td>7.4</td>\n      <td>24.0</td>\n      <td>15</td>\n    </tr>\n    <tr>\n      <th>25</th>\n      <td>8.2</td>\n      <td>19.9</td>\n      <td>15</td>\n    </tr>\n    <tr>\n      <th>26</th>\n      <td>8.7</td>\n      <td>17.7</td>\n      <td>10</td>\n    </tr>\n    <tr>\n      <th>27</th>\n      <td>8.9</td>\n      <td>13.6</td>\n      <td>10</td>\n    </tr>\n    <tr>\n      <th>28</th>\n      <td>5.6</td>\n      <td>11.1</td>\n      <td>10</td>\n    </tr>\n    <tr>\n      <th>29</th>\n      <td>4.9</td>\n      <td>18.9</td>\n      <td>10</td>\n    </tr>\n    <tr>\n      <th>30</th>\n      <td>7.3</td>\n      <td>18.8</td>\n      <td>10</td>\n    </tr>\n    <tr>\n      <th>31</th>\n      <td>11.2</td>\n      <td>14.1</td>\n      <td>0</td>\n    </tr>\n  </tbody>\n</table>\n</div>",
      "text/plain": "       x     y   r\n0   10.5  14.4   0\n1   18.0  15.9  10\n2   18.3  13.3  10\n3   16.5   9.3  10\n4   15.4  11.0  10\n5   14.9  13.2   5\n6   16.3  13.3   5\n7   16.4  17.8   5\n8   15.0  17.9   5\n9   16.1  19.6  10\n10  15.7  20.6  10\n11  13.2  20.1  10\n12  14.3  15.3   5\n13  14.0   5.1  10\n14  11.4   6.7  15\n15   8.3   5.0  15\n16   7.9   9.8  10\n17  11.4  12.0   5\n18  11.2  17.6   5\n19  10.1  18.7   5\n20  11.7  20.3  10\n21  10.2  22.1  10\n22   9.7  23.8  10\n23  10.1  26.4  15\n24   7.4  24.0  15\n25   8.2  19.9  15\n26   8.7  17.7  10\n27   8.9  13.6  10\n28   5.6  11.1  10\n29   4.9  18.9  10\n30   7.3  18.8  10\n31  11.2  14.1   0"
     },
     "execution_count": 3,
     "metadata": {},
     "output_type": "execute_result"
    }
   ],
   "source": [
    "TestSet = pd.read_csv(\"TestSet1.CSV\",sep = \";\", header = None)\r\n",
    "TestSet.columns = [\"x\",\"y\",\"r\"]\r\n",
    "TestSet"
   ]
  },
  {
   "cell_type": "code",
   "execution_count": 9,
   "metadata": {},
   "outputs": [
    {
     "data": {
      "image/png": "[encoded data removed]",
      "text/plain": "<Figure size 432x288 with 1 Axes>"
     },
     "metadata": {
      "transient": {}
     },
     "output_type": "display_data"
    }
   ],
   "source": [
    "plot_rewards1 = plt.scatter(TestSet.x,TestSet.y, s = TestSet.r*2, c = \"b\")"
   ]
  },
  {
   "cell_type": "code",
   "execution_count": 12,
   "metadata": {},
   "outputs": [
    {
     "data": {
      "text/plain": "[0, 31]"
     },
     "execution_count": 12,
     "metadata": {},
     "output_type": "execute_result"
    }
   ],
   "source": [
    "start = TestSet.index[0]\r\n",
    "end = TestSet.index[len(TestSet.index)-1]"
   ]
  },
  {
   "cell_type": "code",
   "execution_count": null,
   "metadata": {},
   "outputs": [],
   "source": [
    "# k,S_k , Σ, Θ"
   ]
  },
  {
   "cell_type": "code",
   "execution_count": 5,
   "metadata": {},
   "outputs": [],
   "source": [
    "def getDubinLength(qi,qj,curvature,stepsize):\r\n",
    "    dp = DubinsPlanner(curvature = curvature,stepsize = stepsize)\r\n",
    "    path1 = dp.query(start = qi, goal = qj)\r\n",
    "    length = path1[1].length\r\n",
    "    return length"
   ]
  },
  {
   "cell_type": "code",
   "execution_count": 11,
   "metadata": {},
   "outputs": [],
   "source": [
    "def getReachableLocations(T_max,S,theta_samples):\r\n",
    "    \"\"\"qi ∈ Sr ⇔ (Ld(q1,qi)+ Ld(qi,qn )) ≤ Tmax for any combination of sampled heading angles (θ1,θi,θn ). \r\n",
    "    This selects all target locations that are reachable by the Dubins vehicle within the travel budget\"\"\"\r\n",
    "    ar = []\r\n",
    "    n = S.index[len(S.index)-1]\r\n",
    "    for i in S.index:\r\n",
    "        if(i == S.index[0] | i == S.index[len(S.index)-1]):\r\n",
    "            ar.append(i)\r\n",
    "        else:\r\n",
    "            reachable = True\r\n",
    "            for theta1 in theta_samples:\r\n",
    "                for thetai in theta_samples:\r\n",
    "                    for thetan in theta_samples:\r\n",
    "                        L_1 = getDubinLength(qi = [S.loc[0,\"x\"],S.loc[0,\"y\"],theta1],qj = [S.loc[i,\"x\"],S.loc[i,\"y\"],thetai])\r\n",
    "                        L_2 = getDubinLength(qi = [S.loc[i,\"x\"],S.loc[i,\"y\"],thetai],qj = [S.loc[n,\"x\"],S.loc[n,\"y\"],thetan])\r\n",
    "                        L = L_1 + L_2\r\n",
    "                        if(L > T_max):\r\n",
    "                            reachable = False\r\n",
    "            if(reachable == True):\r\n",
    "                ar.append(i)        \r\n",
    "    ar.sort()\r\n",
    "    S_r = S.loc[ar,:]\r\n",
    "    return S_r"
   ]
  },
  {
   "cell_type": "code",
   "execution_count": null,
   "metadata": {},
   "outputs": [],
   "source": [
    "def createInitialPath(S_r,T_max):\r\n",
    "    \"\"\"For an initial zero reward Dubins path from q1 to qn ,\r\n",
    "     we iteratively add a new target location from Sr that minimizes\r\n",
    "      additional distance per target reward as long as the length of the whole path is below Tmax .\"\"\"\r\n",
    "    P = {\"k\": 0, \"S_k\": [], \"Sigma\": [], \"Theta\": []}\r\n",
    "    S_k = []\r\n",
    "    "
   ]
  },
  {
   "cell_type": "code",
   "execution_count": null,
   "metadata": {},
   "outputs": [],
   "source": [
    "def variableNeighborhoodSearch(T_max,radius,S,m):\r\n",
    "    theta_samples = [np.random.uniform(0, 2*np.pi) for mi in range(m)]\r\n",
    "    S_r = getReachableLocations(T_max,S,theta_samples)\r\n",
    "    P = createInitialPath(S_r,T_max)\r\n",
    "    stoppingCriterion = False\r\n",
    "    while(stoppingCriterion == False):\r\n",
    "        l = 1\r\n",
    "        P_1 = shake(P,l)\r\n",
    "        P_2 = localSearch(P_1,l)\r\n",
    "        if(length(P_2) <= T_max & getReward(P_2) >= getReward(P)):\r\n",
    "            P = P_2\r\n",
    "            l = 1\r\n",
    "        else:\r\n",
    "            l = l + 1\r\n",
    "        stoppingCriterion = (l > 2)\r\n",
    "    return P\r\n",
    "\r\n"
   ]
  },
  {
   "cell_type": "code",
   "execution_count": 2,
   "metadata": {},
   "outputs": [
    {
     "data": {
      "image/png": "[encoded data removed]",
      "text/plain": "<Figure size 432x288 with 1 Axes>"
     },
     "metadata": {
      "transient": {}
     },
     "output_type": "display_data"
    },
    {
     "data": {
      "text/plain": "<AxesSubplot:xlabel='x', ylabel='y'>"
     },
     "execution_count": 2,
     "metadata": {},
     "output_type": "execute_result"
    }
   ],
   "source": [
    "dp = DubinsPlanner(curvature = 1/5,stepsize = 0.1)\r\n",
    "path1 = dp.query(start = [0,0,1], goal = [5,0,1])\r\n",
    "dp.plot(path1[0])"
   ]
  },
  {
   "cell_type": "code",
   "execution_count": 10,
   "metadata": {},
   "outputs": [
    {
     "data": {
      "text/plain": "7.283185307179586"
     },
     "execution_count": 10,
     "metadata": {},
     "output_type": "execute_result"
    }
   ],
   "source": [
    "qi = [0,0,1]\r\n",
    "qj = [5,0,1]\r\n",
    "curvature = 1/5\r\n",
    "stepsize = 0.1\r\n",
    "getDubinLength(qi,qj,curvature,stepsize)"
   ]
  }
 ],
 "metadata": {
  "kernelspec": {
   "display_name": "Python 3",
   "language": "python",
   "name": "python3"
  },
  "language_info": {
   "codemirror_mode": {
    "name": "ipython",
    "version": 3
   },
   "file_extension": ".py",
   "mimetype": "text/x-python",
   "name": "python",
   "nbconvert_exporter": "python",
   "pygments_lexer": "ipython3",
   "version": "3.8.5"
  },
  "orig_nbformat": 2
 },
 "nbformat": 4,
 "nbformat_minor": 2
}